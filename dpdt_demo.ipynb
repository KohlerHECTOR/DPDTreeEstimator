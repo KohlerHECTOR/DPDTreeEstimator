{
  "nbformat": 4,
  "nbformat_minor": 0,
  "metadata": {
    "colab": {
      "provenance": [],
      "authorship_tag": "ABX9TyOQjlHTdIICavGIvffxkZjI",
      "include_colab_link": true
    },
    "kernelspec": {
      "name": "python3",
      "display_name": "Python 3"
    },
    "language_info": {
      "name": "python"
    }
  },
  "cells": [
    {
      "cell_type": "markdown",
      "metadata": {
        "id": "view-in-github",
        "colab_type": "text"
      },
      "source": [
        "<a href=\"https://colab.research.google.com/github/KohlerHECTOR/DPDTreeEstimator/blob/master/dpdt_demo.ipynb\" target=\"_parent\"><img src=\"https://colab.research.google.com/assets/colab-badge.svg\" alt=\"Open In Colab\"/></a>"
      ]
    },
    {
      "cell_type": "code",
      "execution_count": 1,
      "metadata": {
        "colab": {
          "base_uri": "https://localhost:8080/"
        },
        "id": "aIXWNsTY9-UR",
        "outputId": "6068d62a-d210-46bf-c48b-e756d1a1e1a0"
      },
      "outputs": [
        {
          "output_type": "stream",
          "name": "stdout",
          "text": [
            "Collecting git+https://github.com/AlgTUDelft/pystreed.git\n",
            "  Cloning https://github.com/AlgTUDelft/pystreed.git to /tmp/pip-req-build-w3s_jl6s\n",
            "  Running command git clone --filter=blob:none --quiet https://github.com/AlgTUDelft/pystreed.git /tmp/pip-req-build-w3s_jl6s\n",
            "  Resolved https://github.com/AlgTUDelft/pystreed.git to commit a3e93c3af7b3009af63622782368830d52aadc9e\n",
            "  Installing build dependencies ... \u001b[?25l\u001b[?25hdone\n",
            "  Getting requirements to build wheel ... \u001b[?25l\u001b[?25hdone\n",
            "  Preparing metadata (pyproject.toml) ... \u001b[?25l\u001b[?25hdone\n",
            "Requirement already satisfied: pandas>=1.0.0 in /usr/local/lib/python3.11/dist-packages (from pystreed==1.3.4) (2.2.2)\n",
            "Requirement already satisfied: numpy>=1.18.0 in /usr/local/lib/python3.11/dist-packages (from pystreed==1.3.4) (2.0.2)\n",
            "Requirement already satisfied: scikit-learn>=1.2.0 in /usr/local/lib/python3.11/dist-packages (from pystreed==1.3.4) (1.6.1)\n",
            "Requirement already satisfied: scikit-survival in /usr/local/lib/python3.11/dist-packages (from pystreed==1.3.4) (0.24.1)\n",
            "Requirement already satisfied: python-dateutil>=2.8.2 in /usr/local/lib/python3.11/dist-packages (from pandas>=1.0.0->pystreed==1.3.4) (2.9.0.post0)\n",
            "Requirement already satisfied: pytz>=2020.1 in /usr/local/lib/python3.11/dist-packages (from pandas>=1.0.0->pystreed==1.3.4) (2025.2)\n",
            "Requirement already satisfied: tzdata>=2022.7 in /usr/local/lib/python3.11/dist-packages (from pandas>=1.0.0->pystreed==1.3.4) (2025.2)\n",
            "Requirement already satisfied: scipy>=1.6.0 in /usr/local/lib/python3.11/dist-packages (from scikit-learn>=1.2.0->pystreed==1.3.4) (1.15.3)\n",
            "Requirement already satisfied: joblib>=1.2.0 in /usr/local/lib/python3.11/dist-packages (from scikit-learn>=1.2.0->pystreed==1.3.4) (1.5.1)\n",
            "Requirement already satisfied: threadpoolctl>=3.1.0 in /usr/local/lib/python3.11/dist-packages (from scikit-learn>=1.2.0->pystreed==1.3.4) (3.6.0)\n",
            "Requirement already satisfied: ecos in /usr/local/lib/python3.11/dist-packages (from scikit-survival->pystreed==1.3.4) (2.0.14)\n",
            "Requirement already satisfied: numexpr in /usr/local/lib/python3.11/dist-packages (from scikit-survival->pystreed==1.3.4) (2.11.0)\n",
            "Requirement already satisfied: osqp<1.0.0,>=0.6.3 in /usr/local/lib/python3.11/dist-packages (from scikit-survival->pystreed==1.3.4) (0.6.7.post3)\n",
            "Requirement already satisfied: qdldl in /usr/local/lib/python3.11/dist-packages (from osqp<1.0.0,>=0.6.3->scikit-survival->pystreed==1.3.4) (0.1.7.post5)\n",
            "Requirement already satisfied: six>=1.5 in /usr/local/lib/python3.11/dist-packages (from python-dateutil>=2.8.2->pandas>=1.0.0->pystreed==1.3.4) (1.17.0)\n",
            "Collecting git+https://github.com/KohlerHECTOR/DPDTreeEstimator\n",
            "  Cloning https://github.com/KohlerHECTOR/DPDTreeEstimator to /tmp/pip-req-build-m6p4qc13\n",
            "  Running command git clone --filter=blob:none --quiet https://github.com/KohlerHECTOR/DPDTreeEstimator /tmp/pip-req-build-m6p4qc13\n",
            "  Resolved https://github.com/KohlerHECTOR/DPDTreeEstimator to commit faf2a08220b10a795edf216c30997d322e3f20f0\n",
            "  Installing build dependencies ... \u001b[?25l\u001b[?25hdone\n",
            "  Getting requirements to build wheel ... \u001b[?25l\u001b[?25hdone\n",
            "  Preparing metadata (pyproject.toml) ... \u001b[?25l\u001b[?25hdone\n",
            "Requirement already satisfied: scikit-learn>=1.6 in /usr/local/lib/python3.11/dist-packages (from dpdt==0.1.dev106+gfaf2a08) (1.6.1)\n",
            "Requirement already satisfied: numpy>=1.19.5 in /usr/local/lib/python3.11/dist-packages (from scikit-learn>=1.6->dpdt==0.1.dev106+gfaf2a08) (2.0.2)\n",
            "Requirement already satisfied: scipy>=1.6.0 in /usr/local/lib/python3.11/dist-packages (from scikit-learn>=1.6->dpdt==0.1.dev106+gfaf2a08) (1.15.3)\n",
            "Requirement already satisfied: joblib>=1.2.0 in /usr/local/lib/python3.11/dist-packages (from scikit-learn>=1.6->dpdt==0.1.dev106+gfaf2a08) (1.5.1)\n",
            "Requirement already satisfied: threadpoolctl>=3.1.0 in /usr/local/lib/python3.11/dist-packages (from scikit-learn>=1.6->dpdt==0.1.dev106+gfaf2a08) (3.6.0)\n"
          ]
        }
      ],
      "source": [
        "!pip install git+https://github.com/AlgTUDelft/pystreed.git\n",
        "!pip install git+https://github.com/KohlerHECTOR/DPDTreeEstimator"
      ]
    },
    {
      "cell_type": "code",
      "source": [
        "from dpdt import DPDTreeClassifier, AdaBoostDPDT\n",
        "from pystreed import STreeDClassifier\n",
        "from sklearn.tree import DecisionTreeClassifier\n",
        "from sklearn.ensemble import AdaBoostClassifier\n",
        "import numpy as np\n",
        "from time import time"
      ],
      "metadata": {
        "id": "P43ytp_WCadi"
      },
      "execution_count": 2,
      "outputs": []
    },
    {
      "cell_type": "code",
      "source": [
        "dpdt_single_tree = DPDTreeClassifier(max_depth=5, random_state=42, n_jobs='best')\n",
        "greedy_single_tree = DecisionTreeClassifier(max_depth=5, random_state=42)\n",
        "optimal_single_tree = STreeDClassifier(max_depth=5, time_limit=300, cost_complexity=0, random_seed=42, n_thresholds=20) # time limit of 5 minutes\n",
        "\n",
        "boosted_dpdt = AdaBoostDPDT(random_state=42, n_jobs='best', n_estimators=100)\n",
        "boosted_greedy = AdaBoostClassifier(random_state=42, n_estimators=100)"
      ],
      "metadata": {
        "id": "6G_AvA8fIabE"
      },
      "execution_count": 3,
      "outputs": []
    },
    {
      "cell_type": "code",
      "source": [
        "from sklearn.datasets import fetch_covtype\n",
        "from sklearn.model_selection import train_test_split"
      ],
      "metadata": {
        "id": "hU28paGSHhjl"
      },
      "execution_count": 4,
      "outputs": []
    },
    {
      "cell_type": "code",
      "source": [
        "X, y = fetch_covtype(return_X_y=True)\n",
        "print(f'samples: {X.shape[0]}, features: {X.shape[1]}, classes: {len(np.unique(y))}')\n"
      ],
      "metadata": {
        "colab": {
          "base_uri": "https://localhost:8080/"
        },
        "id": "PqMZlSnJIFiB",
        "outputId": "c0a78c18-fd47-4838-9e4e-fd83a342b046"
      },
      "execution_count": 5,
      "outputs": [
        {
          "output_type": "stream",
          "name": "stdout",
          "text": [
            "samples: 581012, features: 54, classes: 7\n"
          ]
        }
      ]
    },
    {
      "cell_type": "code",
      "source": [
        "# Training\n",
        "X_train, X_test, y_train, y_test = train_test_split(X, y, test_size=0.8, random_state=42)\n",
        "start = time()\n",
        "dpdt_single_tree.fit(X_train, y_train)\n",
        "end = time()\n",
        "print(f'DPDT train score: {dpdt_single_tree.score(X_train, y_train)}, train time: {end-start}, test score: {dpdt_single_tree.score(X_test, y_test)}')\n",
        "\n",
        "start = time()\n",
        "greedy_single_tree.fit(X_train, y_train)\n",
        "end = time()\n",
        "print(f'Greedy train score: {greedy_single_tree.score(X_train, y_train)}, train time: {end-start}, test score: {greedy_single_tree.score(X_test, y_test)}')\n",
        "\n",
        "start = time()\n",
        "optimal_single_tree.fit(X_train, y_train)\n",
        "end = time()\n",
        "print(f'Optimal train score: {optimal_single_tree.score(X_train, y_train)}, train time: {end-start}, test score: {optimal_single_tree.score(X_test, y_test)}')"
      ],
      "metadata": {
        "colab": {
          "base_uri": "https://localhost:8080/"
        },
        "id": "Blmda2eQKvw-",
        "outputId": "4825c9d3-786f-4751-fc5d-a7bbc34eb3ef"
      },
      "execution_count": 6,
      "outputs": [
        {
          "output_type": "stream",
          "name": "stdout",
          "text": [
            "DPDT train score: 0.7124404055007659, train time: 27.45814561843872, test score: 0.7100277532755319\n",
            "Greedy train score: 0.7081031307550645, train time: 0.834968090057373, test score: 0.7060562380327445\n",
            "Optimal train score: 0.6859090204987865, train time: 305.38953828811646, test score: 0.6862330844861341\n"
          ]
        }
      ]
    },
    {
      "cell_type": "code",
      "source": [
        "start = time()\n",
        "boosted_dpdt.fit(X_train, y_train)\n",
        "end = time()\n",
        "print(f'Boosted DPDT train score: {boosted_dpdt.score(X_train, y_train)}, train time: {end-start}, test score: {boosted_dpdt.score(X_test, y_test)}')\n",
        "\n",
        "start = time()\n",
        "boosted_greedy.fit(X_train, y_train)\n",
        "end = time()\n",
        "print(f'Boosted Greedy train score: {boosted_greedy.score(X_train, y_train)}, train time: {end-start}, test score: {boosted_greedy.score(X_test, y_test)}')\n"
      ],
      "metadata": {
        "id": "0PZUaehRNrCv"
      },
      "execution_count": null,
      "outputs": []
    }
  ]
}